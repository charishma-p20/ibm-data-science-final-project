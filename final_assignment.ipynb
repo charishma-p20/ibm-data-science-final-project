{
 "cells": [
  {
   "cell_type": "markdown",
   "id": "cb768418-1565-4a54-9aa5-32942c743247",
   "metadata": {},
   "source": [
    "# Data Science Tools and Ecosystem\n"
   ]
  },
  {
   "cell_type": "markdown",
   "id": "a739d683-d3db-436c-92f3-6b7d6e71a5eb",
   "metadata": {},
   "source": [
    "In this notebook, we will explore various tools, languages, and libraries used by Data Scientists. We'll also perform some simple arithmetic operations and learn how to share our work.\n"
   ]
  },
  {
   "cell_type": "markdown",
   "id": "0872b9ea-771e-4ce6-b7c3-26baa9421aea",
   "metadata": {},
   "source": [
    "### Languages Used in Data Science\n",
    "\n",
    "Some of the most commonly used programming languages in Data Science are:\n",
    "\n",
    "1. Python  \n",
    "2. R  \n",
    "3. SQL  \n",
    "4. Java  \n",
    "5. Julia\n"
   ]
  },
  {
   "cell_type": "markdown",
   "id": "dbe7a045-28ee-4bb4-97ab-12f637dd4884",
   "metadata": {},
   "source": [
    "### Common Data Science Libraries\n",
    "\n",
    "Below is an ordered list of some popular libraries widely used in Data Science:\n",
    "\n",
    "1. Pandas  \n",
    "2. NumPy  \n",
    "3. Matplotlib  \n",
    "4. Scikit-learn  \n",
    "5. TensorFlow  \n",
    "6. Keras\n"
   ]
  },
  {
   "cell_type": "markdown",
   "id": "330368ef-be9a-4260-84f7-2d5b72ec7f80",
   "metadata": {},
   "source": [
    "### Data Science Tools\n",
    "\n",
    "The following table lists some of the commonly used tools in Data Science:\n",
    "\n",
    "| Tool Name         | Category        |\n",
    "|-------------------|-----------------|\n",
    "| Jupyter Notebook  | IDE/Notebook    |\n",
    "| RStudio           | IDE             |\n",
    "| Apache Zeppelin   | Data Visualization/Notebook |\n",
    "| Spyder            | IDE             |\n",
    "| Tableau           | Visualization   |\n"
   ]
  },
  {
   "cell_type": "markdown",
   "id": "8c5ebe9e-5bf6-4dd5-8952-bd59e6f2d4f5",
   "metadata": {},
   "source": [
    "### Introduction to Arithmetic Expressions\n",
    "\n",
    "Below is an example of how arithmetic expressions can be evaluated using Python.\n"
   ]
  },
  {
   "cell_type": "code",
   "execution_count": 3,
   "id": "3664e1f4-1f9b-43e0-b1aa-7468385aff2c",
   "metadata": {},
   "outputs": [
    {
     "data": {
      "text/plain": [
       "17"
      ]
     },
     "execution_count": 3,
     "metadata": {},
     "output_type": "execute_result"
    }
   ],
   "source": [
    "\n",
    "(3 * 4) + 5\n"
   ]
  },
  {
   "cell_type": "code",
   "execution_count": 4,
   "id": "6215dc24-2e17-45f4-9d46-d3bf35405eb0",
   "metadata": {},
   "outputs": [
    {
     "data": {
      "text/plain": [
       "3.3333333333333335"
      ]
     },
     "execution_count": 4,
     "metadata": {},
     "output_type": "execute_result"
    }
   ],
   "source": [
    "\n",
    "200 / 60\n"
   ]
  },
  {
   "cell_type": "markdown",
   "id": "5ab528fb-5787-4223-a561-b0af2ca1255f",
   "metadata": {},
   "source": [
    "### Objectives of This Notebook\n",
    "\n",
    "In this notebook, we will accomplish the following objectives:\n",
    "\n",
    "- List popular languages used in Data Science  \n",
    "- Identify commonly used libraries in Data Science  \n",
    "- Create tables using Markdown syntax  \n",
    "- Perform arithmetic expressions using Python  \n",
    "- Convert minutes into hours using code\n"
   ]
  },
  {
   "cell_type": "markdown",
   "id": "269962d8-e2d5-4608-9302-f5f4b9b2e94c",
   "metadata": {},
   "source": [
    "## Author\n",
    "\n",
    "Patamsetty . Charishma Sai Ragha Srija"
   ]
  },
  {
   "cell_type": "code",
   "execution_count": null,
   "id": "5489c76d-eccd-4484-ac9e-4b2db102f709",
   "metadata": {},
   "outputs": [],
   "source": [
    "S"
   ]
  }
 ],
 "metadata": {
  "kernelspec": {
   "display_name": "Python 3 (ipykernel)",
   "language": "python",
   "name": "python3"
  },
  "language_info": {
   "codemirror_mode": {
    "name": "ipython",
    "version": 3
   },
   "file_extension": ".py",
   "mimetype": "text/x-python",
   "name": "python",
   "nbconvert_exporter": "python",
   "pygments_lexer": "ipython3",
   "version": "3.12.8"
  }
 },
 "nbformat": 4,
 "nbformat_minor": 5
}
